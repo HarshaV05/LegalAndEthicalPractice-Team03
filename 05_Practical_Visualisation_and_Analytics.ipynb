{
  "nbformat": 4,
  "nbformat_minor": 0,
  "metadata": {
    "kernelspec": {
      "display_name": "Python 3",
      "language": "python",
      "name": "python3"
    },
    "language_info": {
      "codemirror_mode": {
        "name": "ipython",
        "version": 3
      },
      "file_extension": ".py",
      "mimetype": "text/x-python",
      "name": "python",
      "nbconvert_exporter": "python",
      "pygments_lexer": "ipython3",
      "version": "3.7.1"
    },
    "colab": {
      "name": "05 - Practical Visualisation and Analytics.ipynb",
      "provenance": [],
      "collapsed_sections": [],
      "include_colab_link": true
    }
  },
  "cells": [
    {
      "cell_type": "markdown",
      "metadata": {
        "id": "view-in-github",
        "colab_type": "text"
      },
      "source": [
        "<a href=\"https://colab.research.google.com/github/HarshaV05/LegalAndEthicalPractice-Team03/blob/master/05_Practical_Visualisation_and_Analytics.ipynb\" target=\"_parent\"><img src=\"https://colab.research.google.com/assets/colab-badge.svg\" alt=\"Open In Colab\"/></a>"
      ]
    },
    {
      "cell_type": "markdown",
      "metadata": {
        "id": "paNP2uPEqDxG",
        "colab_type": "text"
      },
      "source": [
        "# Unit 5 - practical visualisation"
      ]
    },
    {
      "cell_type": "markdown",
      "metadata": {
        "id": "rR-gyCj4qDxJ",
        "colab_type": "text"
      },
      "source": [
        "## Saving Jupyter notebooks\n",
        "There are two practical ways to save a Jupyter notebook:\n",
        "1. as ipynb\n",
        " * either just hit ctrl-S, or via menu File -> Save As...\n",
        "2. as HTML\n",
        " * via menu File -> Download as -> HTML (.html)\n",
        " \n",
        "**For the assignment you'll need to use both!**\n"
      ]
    },
    {
      "cell_type": "markdown",
      "metadata": {
        "id": "2uBL6FFZqDxK",
        "colab_type": "text"
      },
      "source": [
        "## New idioms\n",
        "### preliminaries - load iris "
      ]
    },
    {
      "cell_type": "code",
      "metadata": {
        "id": "TJJFdpWTqDxL",
        "colab_type": "code",
        "outputId": "d5eb309d-8b98-4dea-8c14-4ef2305fb5e5",
        "colab": {
          "base_uri": "https://localhost:8080/",
          "height": 34
        }
      },
      "source": [
        "import matplotlib.pyplot as plt\n",
        "import pandas as pd\n",
        "import sklearn.datasets as data\n",
        "import numpy as np\n",
        "%matplotlib inline\n",
        "iris = data.load_iris()\n",
        "iris.keys()"
      ],
      "execution_count": 1,
      "outputs": [
        {
          "output_type": "execute_result",
          "data": {
            "text/plain": [
              "dict_keys(['data', 'target', 'target_names', 'DESCR', 'feature_names', 'filename'])"
            ]
          },
          "metadata": {
            "tags": []
          },
          "execution_count": 1
        }
      ]
    },
    {
      "cell_type": "code",
      "metadata": {
        "id": "Exk1ORzuqDxO",
        "colab_type": "code",
        "outputId": "97984c84-6ef2-4770-d3f0-803c372cd70c",
        "colab": {
          "base_uri": "https://localhost:8080/",
          "height": 34
        }
      },
      "source": [
        "irisdf = pd.DataFrame(data=iris['data'], columns=iris['feature_names'])\n",
        "irisdf['target'] = iris['target']\n",
        "target_dict = dict(zip(range(3),iris['target_names']))\n",
        "irisdf['species'] = [target_dict[int(t)] for t in iris['target']]\n",
        "target_dict"
      ],
      "execution_count": 2,
      "outputs": [
        {
          "output_type": "execute_result",
          "data": {
            "text/plain": [
              "{0: 'setosa', 1: 'versicolor', 2: 'virginica'}"
            ]
          },
          "metadata": {
            "tags": []
          },
          "execution_count": 2
        }
      ]
    },
    {
      "cell_type": "code",
      "metadata": {
        "id": "jWsfEJtkqDxR",
        "colab_type": "code",
        "outputId": "526fd4d2-275f-4fdf-92a5-e0d9bc4c3f12",
        "colab": {
          "base_uri": "https://localhost:8080/",
          "height": 402
        }
      },
      "source": [
        "irisdf"
      ],
      "execution_count": 3,
      "outputs": [
        {
          "output_type": "execute_result",
          "data": {
            "text/html": [
              "<div>\n",
              "<style scoped>\n",
              "    .dataframe tbody tr th:only-of-type {\n",
              "        vertical-align: middle;\n",
              "    }\n",
              "\n",
              "    .dataframe tbody tr th {\n",
              "        vertical-align: top;\n",
              "    }\n",
              "\n",
              "    .dataframe thead th {\n",
              "        text-align: right;\n",
              "    }\n",
              "</style>\n",
              "<table border=\"1\" class=\"dataframe\">\n",
              "  <thead>\n",
              "    <tr style=\"text-align: right;\">\n",
              "      <th></th>\n",
              "      <th>sepal length (cm)</th>\n",
              "      <th>sepal width (cm)</th>\n",
              "      <th>petal length (cm)</th>\n",
              "      <th>petal width (cm)</th>\n",
              "      <th>target</th>\n",
              "      <th>species</th>\n",
              "    </tr>\n",
              "  </thead>\n",
              "  <tbody>\n",
              "    <tr>\n",
              "      <th>0</th>\n",
              "      <td>5.1</td>\n",
              "      <td>3.5</td>\n",
              "      <td>1.4</td>\n",
              "      <td>0.2</td>\n",
              "      <td>0</td>\n",
              "      <td>setosa</td>\n",
              "    </tr>\n",
              "    <tr>\n",
              "      <th>1</th>\n",
              "      <td>4.9</td>\n",
              "      <td>3.0</td>\n",
              "      <td>1.4</td>\n",
              "      <td>0.2</td>\n",
              "      <td>0</td>\n",
              "      <td>setosa</td>\n",
              "    </tr>\n",
              "    <tr>\n",
              "      <th>2</th>\n",
              "      <td>4.7</td>\n",
              "      <td>3.2</td>\n",
              "      <td>1.3</td>\n",
              "      <td>0.2</td>\n",
              "      <td>0</td>\n",
              "      <td>setosa</td>\n",
              "    </tr>\n",
              "    <tr>\n",
              "      <th>3</th>\n",
              "      <td>4.6</td>\n",
              "      <td>3.1</td>\n",
              "      <td>1.5</td>\n",
              "      <td>0.2</td>\n",
              "      <td>0</td>\n",
              "      <td>setosa</td>\n",
              "    </tr>\n",
              "    <tr>\n",
              "      <th>4</th>\n",
              "      <td>5.0</td>\n",
              "      <td>3.6</td>\n",
              "      <td>1.4</td>\n",
              "      <td>0.2</td>\n",
              "      <td>0</td>\n",
              "      <td>setosa</td>\n",
              "    </tr>\n",
              "    <tr>\n",
              "      <th>...</th>\n",
              "      <td>...</td>\n",
              "      <td>...</td>\n",
              "      <td>...</td>\n",
              "      <td>...</td>\n",
              "      <td>...</td>\n",
              "      <td>...</td>\n",
              "    </tr>\n",
              "    <tr>\n",
              "      <th>145</th>\n",
              "      <td>6.7</td>\n",
              "      <td>3.0</td>\n",
              "      <td>5.2</td>\n",
              "      <td>2.3</td>\n",
              "      <td>2</td>\n",
              "      <td>virginica</td>\n",
              "    </tr>\n",
              "    <tr>\n",
              "      <th>146</th>\n",
              "      <td>6.3</td>\n",
              "      <td>2.5</td>\n",
              "      <td>5.0</td>\n",
              "      <td>1.9</td>\n",
              "      <td>2</td>\n",
              "      <td>virginica</td>\n",
              "    </tr>\n",
              "    <tr>\n",
              "      <th>147</th>\n",
              "      <td>6.5</td>\n",
              "      <td>3.0</td>\n",
              "      <td>5.2</td>\n",
              "      <td>2.0</td>\n",
              "      <td>2</td>\n",
              "      <td>virginica</td>\n",
              "    </tr>\n",
              "    <tr>\n",
              "      <th>148</th>\n",
              "      <td>6.2</td>\n",
              "      <td>3.4</td>\n",
              "      <td>5.4</td>\n",
              "      <td>2.3</td>\n",
              "      <td>2</td>\n",
              "      <td>virginica</td>\n",
              "    </tr>\n",
              "    <tr>\n",
              "      <th>149</th>\n",
              "      <td>5.9</td>\n",
              "      <td>3.0</td>\n",
              "      <td>5.1</td>\n",
              "      <td>1.8</td>\n",
              "      <td>2</td>\n",
              "      <td>virginica</td>\n",
              "    </tr>\n",
              "  </tbody>\n",
              "</table>\n",
              "<p>150 rows × 6 columns</p>\n",
              "</div>"
            ],
            "text/plain": [
              "     sepal length (cm)  sepal width (cm)  ...  target    species\n",
              "0                  5.1               3.5  ...       0     setosa\n",
              "1                  4.9               3.0  ...       0     setosa\n",
              "2                  4.7               3.2  ...       0     setosa\n",
              "3                  4.6               3.1  ...       0     setosa\n",
              "4                  5.0               3.6  ...       0     setosa\n",
              "..                 ...               ...  ...     ...        ...\n",
              "145                6.7               3.0  ...       2  virginica\n",
              "146                6.3               2.5  ...       2  virginica\n",
              "147                6.5               3.0  ...       2  virginica\n",
              "148                6.2               3.4  ...       2  virginica\n",
              "149                5.9               3.0  ...       2  virginica\n",
              "\n",
              "[150 rows x 6 columns]"
            ]
          },
          "metadata": {
            "tags": []
          },
          "execution_count": 3
        }
      ]
    },
    {
      "cell_type": "markdown",
      "metadata": {
        "id": "bZtM0JfRqDxU",
        "colab_type": "text"
      },
      "source": [
        "### make figure of specific size, decorate with axis labels of specific font"
      ]
    },
    {
      "cell_type": "code",
      "metadata": {
        "id": "eVU1B0GkqDxV",
        "colab_type": "code",
        "outputId": "3e9abd4e-f527-4ab3-ae8c-51934058d7a1",
        "colab": {
          "base_uri": "https://localhost:8080/",
          "height": 358
        }
      },
      "source": [
        "f = plt.figure(figsize=(7,5)) # makes a figure 7 inches wide, 5 inches high\n",
        "ax = f.gca() # instead of plt.gca()\n",
        "xvar = 'petal length (cm)'\n",
        "yvar = 'sepal length (cm)'\n",
        "ax.scatter(irisdf[xvar], irisdf[yvar])\n",
        "ax.set_xlabel(xvar, size=17, family='serif')\n",
        "ax.set_ylabel(yvar, size=8, family='sans serif')"
      ],
      "execution_count": 5,
      "outputs": [
        {
          "output_type": "execute_result",
          "data": {
            "text/plain": [
              "Text(0, 0.5, 'sepal length (cm)')"
            ]
          },
          "metadata": {
            "tags": []
          },
          "execution_count": 5
        },
        {
          "output_type": "display_data",
          "data": {
            "image/png": "[encoded data removed]",
            "text/plain": [
              "<Figure size 504x360 with 1 Axes>"
            ]
          },
          "metadata": {
            "tags": []
          }
        }
      ]
    },
    {
      "cell_type": "markdown",
      "metadata": {
        "id": "LqT14oiuqDxY",
        "colab_type": "text"
      },
      "source": [
        "#### Task\n",
        "* Set both axis labels to 10 pt sans-serif font.\n",
        "* change figure size to 5 inches wide, 3 inches tall. "
      ]
    },
    {
      "cell_type": "markdown",
      "metadata": {
        "id": "3wKM2H_vqDxZ",
        "colab_type": "text"
      },
      "source": [
        "### Colormaps"
      ]
    },
    {
      "cell_type": "markdown",
      "metadata": {
        "id": "5mk3wuTyqDxa",
        "colab_type": "text"
      },
      "source": [
        "We have previously seen colormaps for matrices:"
      ]
    },
    {
      "cell_type": "code",
      "metadata": {
        "id": "AO5C4Gt3qDxb",
        "colab_type": "code",
        "outputId": "8e250bde-6abd-47f3-ddbf-ab15e53695cb",
        "colab": {
          "base_uri": "https://localhost:8080/",
          "height": 265
        }
      },
      "source": [
        "mat = np.random.randn(10,15)\n",
        "f = plt.figure()\n",
        "ax = f.gca()\n",
        "img = ax.imshow(mat, cmap='seismic') # diverging colormaps, since randn varries around mean zero\n",
        "plt.colorbar(img)"
      ],
      "execution_count": 6,
      "outputs": [
        {
          "output_type": "execute_result",
          "data": {
            "text/plain": [
              "<matplotlib.colorbar.Colorbar at 0x7f7477b39400>"
            ]
          },
          "metadata": {
            "tags": []
          },
          "execution_count": 6
        },
        {
          "output_type": "display_data",
          "data": {
            "image/png": "[encoded data removed]",
            "text/plain": [
              "<Figure size 432x288 with 2 Axes>"
            ]
          },
          "metadata": {
            "tags": []
          }
        }
      ]
    },
    {
      "cell_type": "markdown",
      "metadata": {
        "id": "w5kVA4MQqDxe",
        "colab_type": "text"
      },
      "source": [
        "Colormaps can also be applied to scatter plots. \n",
        "\n",
        "The example below uses a sequential colormap to indicate the value of the 'sepal width (cm)' feature.\n",
        "\n",
        "Note that adding a colorbar requires storing the return value of the `scatter(...)` command."
      ]
    },
    {
      "cell_type": "code",
      "metadata": {
        "id": "Er3sT3fXqDxf",
        "colab_type": "code",
        "outputId": "61feca45-5658-48bd-9d35-3342942606a9",
        "colab": {
          "base_uri": "https://localhost:8080/",
          "height": 337
        }
      },
      "source": [
        "f = plt.figure(figsize=(7,5))\n",
        "ax = f.gca() # instead of plt.gca()\n",
        "dots = ax.scatter(irisdf['petal length (cm)'], irisdf['sepal length (cm)'],\n",
        "           c=irisdf['sepal width (cm)'],    # the 'c' parameter specifies the feature to use for coloring\n",
        "           cmap='PiYG')                     # the cmap parameter specifies the colormap\n",
        "# adding colorbar\n",
        "plt.colorbar(dots, label='sepal width (cm)')"
      ],
      "execution_count": 10,
      "outputs": [
        {
          "output_type": "execute_result",
          "data": {
            "text/plain": [
              "<matplotlib.colorbar.Colorbar at 0x7f74777b5fd0>"
            ]
          },
          "metadata": {
            "tags": []
          },
          "execution_count": 10
        },
        {
          "output_type": "display_data",
          "data": {
            "image/png": "[encoded data removed]",
            "text/plain": [
              "<Figure size 504x360 with 2 Axes>"
            ]
          },
          "metadata": {
            "tags": []
          }
        }
      ]
    },
    {
      "cell_type": "markdown",
      "metadata": {
        "id": "fWU4IXi8qDxi",
        "colab_type": "text"
      },
      "source": [
        "Similarly, we can use a diverging colormap, e.g. to indicate the target value. "
      ]
    },
    {
      "cell_type": "code",
      "metadata": {
        "id": "domMmMa2qDxi",
        "colab_type": "code",
        "outputId": "48c5a0a5-6949-4243-85cb-c68c663c38e8",
        "colab": {
          "base_uri": "https://localhost:8080/",
          "height": 341
        }
      },
      "source": [
        "f = plt.figure(figsize=(7,5))\n",
        "ax = f.gca() # instead of plt.gca()\n",
        "dots = ax.scatter(irisdf['petal length (cm)'], irisdf['sepal length (cm)'],\n",
        "           c=irisdf['target'],    # the 'c' parameter specifies the feature to use for coloring\n",
        "           cmap='jet')                     # the cmap parameter specifies the colormap\n",
        "# adding colorbar\n",
        "plt.colorbar(dots, label='target')"
      ],
      "execution_count": 11,
      "outputs": [
        {
          "output_type": "execute_result",
          "data": {
            "text/plain": [
              "<matplotlib.colorbar.Colorbar at 0x7f747776a240>"
            ]
          },
          "metadata": {
            "tags": []
          },
          "execution_count": 11
        },
        {
          "output_type": "display_data",
          "data": {
            "image/png": "[encoded data removed]",
            "text/plain": [
              "<Figure size 504x360 with 2 Axes>"
            ]
          },
          "metadata": {
            "tags": []
          }
        }
      ]
    },
    {
      "cell_type": "markdown",
      "metadata": {
        "id": "hTY3SrEZqDxl",
        "colab_type": "text"
      },
      "source": [
        "Obviously, the colorbar makes little sense here. The example was mainly added for the sake of completeness. \n",
        "\n",
        "Instead, we should to use a legend. The matplotlib `legend` command is quite smart and can infer all required information from a plot. However, we need to make three tweaks:\n",
        "1. add \"label\" information to the plotted dots.\n",
        "2. use the `plot` command instead of `scatter`, since the latter doesn't support the \"label\" parameter.\n",
        "3. add the different species separately since only one label can be specified per plot command."
      ]
    },
    {
      "cell_type": "code",
      "metadata": {
        "id": "RASUeSJKqDxm",
        "colab_type": "code",
        "outputId": "d0500490-65f4-447f-8295-c248c4ecaf00",
        "colab": {
          "base_uri": "https://localhost:8080/",
          "height": 337
        }
      },
      "source": [
        "f = plt.figure(figsize=(7,5))\n",
        "ax = f.gca() # instead of plt.gca()\n",
        "for lab,c in zip(iris['target_names'], ['red', 'green', 'blue']): #loop over species\n",
        "    ax.plot(irisdf['petal length (cm)'][irisdf['species']==lab], \n",
        "            irisdf['sepal length (cm)'][irisdf['species']==lab],\n",
        "            color=c,    # specifies the color\n",
        "            marker='o', # specifies the marker\n",
        "            linestyle='', # orevents drawing a line\n",
        "            label=lab) # adds label information to the dots\n",
        "ax.legend()"
      ],
      "execution_count": 12,
      "outputs": [
        {
          "output_type": "execute_result",
          "data": {
            "text/plain": [
              "<matplotlib.legend.Legend at 0x7f74776e43c8>"
            ]
          },
          "metadata": {
            "tags": []
          },
          "execution_count": 12
        },
        {
          "output_type": "display_data",
          "data": {
            "image/png": "[encoded data removed]",
            "text/plain": [
              "<Figure size 504x360 with 1 Axes>"
            ]
          },
          "metadata": {
            "tags": []
          }
        }
      ]
    },
    {
      "cell_type": "markdown",
      "metadata": {
        "id": "lTCvhbUtqDxp",
        "colab_type": "text"
      },
      "source": [
        "## Brain networks\n",
        "\n",
        "The \"Brain Networks\" dataset contains the activity of 62 brain regions of 920 time points. We will analyse the correlation between those time series. The dataset is available on Canvas (\"brain_networks.csv\").\n",
        "\n",
        "First we load the data set.\n",
        "\n",
        "This dataset has three header rows (0, 1 and 2) and one index column.\n",
        "\n",
        "The highest level is the brain network, the middle level the brain node, and the lowest level is the hemishpese (left or right hemisphere)."
      ]
    },
    {
      "cell_type": "code",
      "metadata": {
        "id": "_9iqk7DFqDxq",
        "colab_type": "code",
        "outputId": "ef03c7b2-cc97-4fd9-cbd4-bde36a52bcce",
        "colab": {
          "base_uri": "https://localhost:8080/",
          "height": 421
        }
      },
      "source": [
        "import pandas as pd\n",
        "\n",
        "# Load the brain networks example dataset\n",
        "df = pd.read_csv('brain_networks.csv', header=[0, 1, 2], index_col=0)\n",
        "df\n"
      ],
      "execution_count": 0,
      "outputs": [
        {
          "output_type": "error",
          "ename": "FileNotFoundError",
          "evalue": "ignored",
          "traceback": [
            "\u001b[0;31m---------------------------------------------------------------------------\u001b[0m",
            "\u001b[0;31mFileNotFoundError\u001b[0m                         Traceback (most recent call last)",
            "\u001b[0;32m<ipython-input-9-e9c8bb64086f>\u001b[0m in \u001b[0;36m<module>\u001b[0;34m()\u001b[0m\n\u001b[1;32m      2\u001b[0m \u001b[0;34m\u001b[0m\u001b[0m\n\u001b[1;32m      3\u001b[0m \u001b[0;31m# Load the brain networks example dataset\u001b[0m\u001b[0;34m\u001b[0m\u001b[0;34m\u001b[0m\u001b[0;34m\u001b[0m\u001b[0m\n\u001b[0;32m----> 4\u001b[0;31m \u001b[0mdf\u001b[0m \u001b[0;34m=\u001b[0m \u001b[0mpd\u001b[0m\u001b[0;34m.\u001b[0m\u001b[0mread_csv\u001b[0m\u001b[0;34m(\u001b[0m\u001b[0;34m'brain_networks.csv'\u001b[0m\u001b[0;34m,\u001b[0m \u001b[0mheader\u001b[0m\u001b[0;34m=\u001b[0m\u001b[0;34m[\u001b[0m\u001b[0;36m0\u001b[0m\u001b[0;34m,\u001b[0m \u001b[0;36m1\u001b[0m\u001b[0;34m,\u001b[0m \u001b[0;36m2\u001b[0m\u001b[0;34m]\u001b[0m\u001b[0;34m,\u001b[0m \u001b[0mindex_col\u001b[0m\u001b[0;34m=\u001b[0m\u001b[0;36m0\u001b[0m\u001b[0;34m)\u001b[0m\u001b[0;34m\u001b[0m\u001b[0;34m\u001b[0m\u001b[0m\n\u001b[0m\u001b[1;32m      5\u001b[0m \u001b[0mdf\u001b[0m\u001b[0;34m\u001b[0m\u001b[0;34m\u001b[0m\u001b[0m\n",
            "\u001b[0;32m/usr/local/lib/python3.6/dist-packages/pandas/io/parsers.py\u001b[0m in \u001b[0;36mparser_f\u001b[0;34m(filepath_or_buffer, sep, delimiter, header, names, index_col, usecols, squeeze, prefix, mangle_dupe_cols, dtype, engine, converters, true_values, false_values, skipinitialspace, skiprows, skipfooter, nrows, na_values, keep_default_na, na_filter, verbose, skip_blank_lines, parse_dates, infer_datetime_format, keep_date_col, date_parser, dayfirst, cache_dates, iterator, chunksize, compression, thousands, decimal, lineterminator, quotechar, quoting, doublequote, escapechar, comment, encoding, dialect, error_bad_lines, warn_bad_lines, delim_whitespace, low_memory, memory_map, float_precision)\u001b[0m\n\u001b[1;32m    683\u001b[0m         )\n\u001b[1;32m    684\u001b[0m \u001b[0;34m\u001b[0m\u001b[0m\n\u001b[0;32m--> 685\u001b[0;31m         \u001b[0;32mreturn\u001b[0m \u001b[0m_read\u001b[0m\u001b[0;34m(\u001b[0m\u001b[0mfilepath_or_buffer\u001b[0m\u001b[0;34m,\u001b[0m \u001b[0mkwds\u001b[0m\u001b[0;34m)\u001b[0m\u001b[0;34m\u001b[0m\u001b[0;34m\u001b[0m\u001b[0m\n\u001b[0m\u001b[1;32m    686\u001b[0m \u001b[0;34m\u001b[0m\u001b[0m\n\u001b[1;32m    687\u001b[0m     \u001b[0mparser_f\u001b[0m\u001b[0;34m.\u001b[0m\u001b[0m__name__\u001b[0m \u001b[0;34m=\u001b[0m \u001b[0mname\u001b[0m\u001b[0;34m\u001b[0m\u001b[0;34m\u001b[0m\u001b[0m\n",
            "\u001b[0;32m/usr/local/lib/python3.6/dist-packages/pandas/io/parsers.py\u001b[0m in \u001b[0;36m_read\u001b[0;34m(filepath_or_buffer, kwds)\u001b[0m\n\u001b[1;32m    455\u001b[0m \u001b[0;34m\u001b[0m\u001b[0m\n\u001b[1;32m    456\u001b[0m     \u001b[0;31m# Create the parser.\u001b[0m\u001b[0;34m\u001b[0m\u001b[0;34m\u001b[0m\u001b[0;34m\u001b[0m\u001b[0m\n\u001b[0;32m--> 457\u001b[0;31m     \u001b[0mparser\u001b[0m \u001b[0;34m=\u001b[0m \u001b[0mTextFileReader\u001b[0m\u001b[0;34m(\u001b[0m\u001b[0mfp_or_buf\u001b[0m\u001b[0;34m,\u001b[0m \u001b[0;34m**\u001b[0m\u001b[0mkwds\u001b[0m\u001b[0;34m)\u001b[0m\u001b[0;34m\u001b[0m\u001b[0;34m\u001b[0m\u001b[0m\n\u001b[0m\u001b[1;32m    458\u001b[0m \u001b[0;34m\u001b[0m\u001b[0m\n\u001b[1;32m    459\u001b[0m     \u001b[0;32mif\u001b[0m \u001b[0mchunksize\u001b[0m \u001b[0;32mor\u001b[0m \u001b[0miterator\u001b[0m\u001b[0;34m:\u001b[0m\u001b[0;34m\u001b[0m\u001b[0;34m\u001b[0m\u001b[0m\n",
            "\u001b[0;32m/usr/local/lib/python3.6/dist-packages/pandas/io/parsers.py\u001b[0m in \u001b[0;36m__init__\u001b[0;34m(self, f, engine, **kwds)\u001b[0m\n\u001b[1;32m    893\u001b[0m             \u001b[0mself\u001b[0m\u001b[0;34m.\u001b[0m\u001b[0moptions\u001b[0m\u001b[0;34m[\u001b[0m\u001b[0;34m\"has_index_names\"\u001b[0m\u001b[0;34m]\u001b[0m \u001b[0;34m=\u001b[0m \u001b[0mkwds\u001b[0m\u001b[0;34m[\u001b[0m\u001b[0;34m\"has_index_names\"\u001b[0m\u001b[0;34m]\u001b[0m\u001b[0;34m\u001b[0m\u001b[0;34m\u001b[0m\u001b[0m\n\u001b[1;32m    894\u001b[0m \u001b[0;34m\u001b[0m\u001b[0m\n\u001b[0;32m--> 895\u001b[0;31m         \u001b[0mself\u001b[0m\u001b[0;34m.\u001b[0m\u001b[0m_make_engine\u001b[0m\u001b[0;34m(\u001b[0m\u001b[0mself\u001b[0m\u001b[0;34m.\u001b[0m\u001b[0mengine\u001b[0m\u001b[0;34m)\u001b[0m\u001b[0;34m\u001b[0m\u001b[0;34m\u001b[0m\u001b[0m\n\u001b[0m\u001b[1;32m    896\u001b[0m \u001b[0;34m\u001b[0m\u001b[0m\n\u001b[1;32m    897\u001b[0m     \u001b[0;32mdef\u001b[0m \u001b[0mclose\u001b[0m\u001b[0;34m(\u001b[0m\u001b[0mself\u001b[0m\u001b[0;34m)\u001b[0m\u001b[0;34m:\u001b[0m\u001b[0;34m\u001b[0m\u001b[0;34m\u001b[0m\u001b[0m\n",
            "\u001b[0;32m/usr/local/lib/python3.6/dist-packages/pandas/io/parsers.py\u001b[0m in \u001b[0;36m_make_engine\u001b[0;34m(self, engine)\u001b[0m\n\u001b[1;32m   1133\u001b[0m     \u001b[0;32mdef\u001b[0m \u001b[0m_make_engine\u001b[0m\u001b[0;34m(\u001b[0m\u001b[0mself\u001b[0m\u001b[0;34m,\u001b[0m \u001b[0mengine\u001b[0m\u001b[0;34m=\u001b[0m\u001b[0;34m\"c\"\u001b[0m\u001b[0;34m)\u001b[0m\u001b[0;34m:\u001b[0m\u001b[0;34m\u001b[0m\u001b[0;34m\u001b[0m\u001b[0m\n\u001b[1;32m   1134\u001b[0m         \u001b[0;32mif\u001b[0m \u001b[0mengine\u001b[0m \u001b[0;34m==\u001b[0m \u001b[0;34m\"c\"\u001b[0m\u001b[0;34m:\u001b[0m\u001b[0;34m\u001b[0m\u001b[0;34m\u001b[0m\u001b[0m\n\u001b[0;32m-> 1135\u001b[0;31m             \u001b[0mself\u001b[0m\u001b[0;34m.\u001b[0m\u001b[0m_engine\u001b[0m \u001b[0;34m=\u001b[0m \u001b[0mCParserWrapper\u001b[0m\u001b[0;34m(\u001b[0m\u001b[0mself\u001b[0m\u001b[0;34m.\u001b[0m\u001b[0mf\u001b[0m\u001b[0;34m,\u001b[0m \u001b[0;34m**\u001b[0m\u001b[0mself\u001b[0m\u001b[0;34m.\u001b[0m\u001b[0moptions\u001b[0m\u001b[0;34m)\u001b[0m\u001b[0;34m\u001b[0m\u001b[0;34m\u001b[0m\u001b[0m\n\u001b[0m\u001b[1;32m   1136\u001b[0m         \u001b[0;32melse\u001b[0m\u001b[0;34m:\u001b[0m\u001b[0;34m\u001b[0m\u001b[0;34m\u001b[0m\u001b[0m\n\u001b[1;32m   1137\u001b[0m             \u001b[0;32mif\u001b[0m \u001b[0mengine\u001b[0m \u001b[0;34m==\u001b[0m \u001b[0;34m\"python\"\u001b[0m\u001b[0;34m:\u001b[0m\u001b[0;34m\u001b[0m\u001b[0;34m\u001b[0m\u001b[0m\n",
            "\u001b[0;32m/usr/local/lib/python3.6/dist-packages/pandas/io/parsers.py\u001b[0m in \u001b[0;36m__init__\u001b[0;34m(self, src, **kwds)\u001b[0m\n\u001b[1;32m   1915\u001b[0m         \u001b[0mkwds\u001b[0m\u001b[0;34m[\u001b[0m\u001b[0;34m\"usecols\"\u001b[0m\u001b[0;34m]\u001b[0m \u001b[0;34m=\u001b[0m \u001b[0mself\u001b[0m\u001b[0;34m.\u001b[0m\u001b[0musecols\u001b[0m\u001b[0;34m\u001b[0m\u001b[0;34m\u001b[0m\u001b[0m\n\u001b[1;32m   1916\u001b[0m \u001b[0;34m\u001b[0m\u001b[0m\n\u001b[0;32m-> 1917\u001b[0;31m         \u001b[0mself\u001b[0m\u001b[0;34m.\u001b[0m\u001b[0m_reader\u001b[0m \u001b[0;34m=\u001b[0m \u001b[0mparsers\u001b[0m\u001b[0;34m.\u001b[0m\u001b[0mTextReader\u001b[0m\u001b[0;34m(\u001b[0m\u001b[0msrc\u001b[0m\u001b[0;34m,\u001b[0m \u001b[0;34m**\u001b[0m\u001b[0mkwds\u001b[0m\u001b[0;34m)\u001b[0m\u001b[0;34m\u001b[0m\u001b[0;34m\u001b[0m\u001b[0m\n\u001b[0m\u001b[1;32m   1918\u001b[0m         \u001b[0mself\u001b[0m\u001b[0;34m.\u001b[0m\u001b[0munnamed_cols\u001b[0m \u001b[0;34m=\u001b[0m \u001b[0mself\u001b[0m\u001b[0;34m.\u001b[0m\u001b[0m_reader\u001b[0m\u001b[0;34m.\u001b[0m\u001b[0munnamed_cols\u001b[0m\u001b[0;34m\u001b[0m\u001b[0;34m\u001b[0m\u001b[0m\n\u001b[1;32m   1919\u001b[0m \u001b[0;34m\u001b[0m\u001b[0m\n",
            "\u001b[0;32mpandas/_libs/parsers.pyx\u001b[0m in \u001b[0;36mpandas._libs.parsers.TextReader.__cinit__\u001b[0;34m()\u001b[0m\n",
            "\u001b[0;32mpandas/_libs/parsers.pyx\u001b[0m in \u001b[0;36mpandas._libs.parsers.TextReader._setup_parser_source\u001b[0;34m()\u001b[0m\n",
            "\u001b[0;31mFileNotFoundError\u001b[0m: [Errno 2] File b'brain_networks.csv' does not exist: b'brain_networks.csv'"
          ]
        }
      ]
    },
    {
      "cell_type": "markdown",
      "metadata": {
        "id": "TEt1aTaXqDxs",
        "colab_type": "text"
      },
      "source": [
        "Let's calculate the correlation between brain networks. Correlation is similar to covariance, except that it also takes the series' standard deviation into account.\n",
        "\n",
        "Remember the equation for covariance:\n",
        "\n",
        "\\begin{equation*}\n",
        "cov(\\mathbf{x},\\mathbf{y}) = \\frac{\\sum_i \\left(x_i-\\langle x\\rangle \\right) \\left(y_i-\\langle y\\rangle \\right)}{n} \n",
        "\\end{equation*}\n",
        "\n",
        "with $\\langle x \\rangle$ denoting the mean of $x$.\n",
        "\n",
        "Correlation is the covariance divided by the product of the two standard deviations:\n",
        "\n",
        "\\begin{equation*}\n",
        "cov(\\mathbf{x},\\mathbf{y}) = \\frac{\\sum_i \\left(x_i-\\langle x\\rangle \\right) \\left(y_i-\\langle y\\rangle \\right)}\n",
        "{n \\cdot \\sigma_x \\cdot \\sigma_y} \n",
        "\\end{equation*}\n",
        "\n",
        "Note that in case of unit variance, like after normalisation of the variables using `sklearn.StandardScaler`, both standard deviations will be one and therefore correlation will be equal to covariance. \n",
        "\n",
        "We can compute the correlation matrix of a dataframe using the following:"
      ]
    },
    {
      "cell_type": "code",
      "metadata": {
        "id": "_6HBp619qDxt",
        "colab_type": "code",
        "colab": {}
      },
      "source": [
        "corrmat = df.corr()\n",
        "corrmat"
      ],
      "execution_count": 0,
      "outputs": []
    },
    {
      "cell_type": "markdown",
      "metadata": {
        "id": "1Qu302OvqDxw",
        "colab_type": "text"
      },
      "source": [
        "The correlation matrix is a square matrix and the values range from -1 to 1.\n",
        "\n",
        "A correlation of 1 means that two series are fully correlated, that is, series $/mathbf{x}$ is the same as $/mathbf{y}$, except for potential scaling and translation (i.e., multiplication and/or addition of a constant).\n",
        "\n",
        "A correlation of -1 means that two series are exactly the \"opposite\" of each other. They are \"anticorrelated\".\n",
        "\n",
        "Both correlation of -1 and 1 mean that the two series are fully predictable.\n",
        "\n",
        "A correlation of 0 means that the two values are uncorrelated., that is, series $/mathbf{x}$ is not linearly  predictable from series $/mathbf{y}$.\n",
        "\n",
        "#### Correlation matrix\n",
        "Now, let's plot the correlation matrix. It's a square matrix with possible values between -1 and 1."
      ]
    },
    {
      "cell_type": "code",
      "metadata": {
        "id": "BX4WrwnnqDxw",
        "colab_type": "code",
        "colab": {}
      },
      "source": [
        "f = plt.figure(figsize=(4,6))\n",
        "ax = f.gca()\n",
        "ax.imshow(corrmat.values)"
      ],
      "execution_count": 0,
      "outputs": []
    },
    {
      "cell_type": "markdown",
      "metadata": {
        "id": "HaUAJdHgqDxz",
        "colab_type": "text"
      },
      "source": [
        "### Task\n",
        "1. Add a colorbar to the figure.\n",
        "2. make the figure 7 inch large and square.\n",
        "2. go to the [matplotlib colormap tutorial](https://matplotlib.org/3.1.0/tutorials/colors/colormaps.html), have a look at the available colormaps and choose a diverging colormap of your liking.\n",
        "3. use the documentation of the `imshow` command to find out how to change the colormap. Hint: use `plt.imshow?` to display the documentation for `imshow`.\n",
        "4. Scale the colormap such that the minimum value it reports is -1 and the maximum is 1. The mean will be zero. Hint: Look at the `vmin` and `vmax` parameters in the documentation.\n",
        "5. Save the figure in PNG format with 150 dpi. \n",
        "6. Verify that the saved figure has the dimensions 7x7 inch. Hint: Open Word, create a new document, insert the figure, right click -> \"Size and Position\", check \"Original Size\". You may have to convert centimeters to inches."
      ]
    },
    {
      "cell_type": "code",
      "metadata": {
        "id": "ASU9yzDoqDx0",
        "colab_type": "code",
        "colab": {}
      },
      "source": [
        "# add your code here."
      ],
      "execution_count": 0,
      "outputs": []
    },
    {
      "cell_type": "markdown",
      "metadata": {
        "id": "uBb4GMOYqDx3",
        "colab_type": "text"
      },
      "source": [
        "## Coronavirus campaign continued — Explorative analysis\n",
        "1. Download the newest version of th coronavirus dataset from https://www.kaggle.com/sudalairajkumar/novel-corona-virus-2019-dataset .\n",
        "\n",
        "2. Plot the ...\n",
        " * number of cases in Hubei over time\n",
        " * number of deaths in Hubei over time\n",
        " * infection rate over time (new cases per existing cases)\n",
        " * mortality rate in Hubei over time (deaths per cases)\n",
        " * recovery rate in Hubei over time (recoveries per cases)\n",
        " \n",
        "3. Plot a bar chart that shows the number of cases in Mainland China vs. all other countries listed. Sort bars in decreasing order. Hint: Look at `matplotlib.pyplot.hist` for how to make a bar histogram."
      ]
    },
    {
      "cell_type": "code",
      "metadata": {
        "id": "07_wzri5qDx4",
        "colab_type": "code",
        "colab": {}
      },
      "source": [
        "# add your code here"
      ],
      "execution_count": 0,
      "outputs": []
    },
    {
      "cell_type": "markdown",
      "metadata": {
        "id": "OMFChDiLqDx9",
        "colab_type": "text"
      },
      "source": [
        "## Advanced data campaign 1 - data cleaning\n",
        "1. Standardise the column 'Country' (i.e. 'China' vs. 'Mainland China')\n",
        "2. Standardise the format of the date strings in 'Date' and 'Last Update'. Consult the documentation for `pandas.to_datetime`."
      ]
    },
    {
      "cell_type": "code",
      "metadata": {
        "id": "7f63nlEYqDx-",
        "colab_type": "code",
        "colab": {}
      },
      "source": [
        "# add your code here"
      ],
      "execution_count": 0,
      "outputs": []
    },
    {
      "cell_type": "markdown",
      "metadata": {
        "id": "xfGopBbtqDyB",
        "colab_type": "text"
      },
      "source": [
        "## Advanced data campaign 2 - explorative\n",
        "* plot the number of cases in Hubei and number of recoveries\n",
        "* Can you estimate the recovery lag, i.e. how long is the average duration between recording of a case and recovery?\n",
        "* Can you apply the estimated lag to the calculation of the mortality rate (i.e. calculate mortality rate with appropriate lag)?"
      ]
    },
    {
      "cell_type": "code",
      "metadata": {
        "id": "ZQHrELaFqDyC",
        "colab_type": "code",
        "colab": {}
      },
      "source": [
        "# add your code here."
      ],
      "execution_count": 0,
      "outputs": []
    }
  ]
}